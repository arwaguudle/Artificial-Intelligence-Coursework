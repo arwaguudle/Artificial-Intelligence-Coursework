{
 "cells": [
  {
   "cell_type": "code",
   "execution_count": 3,
   "metadata": {},
   "outputs": [],
   "source": [
    "import numpy as np\n",
    "import pandas as pd"
   ]
  },
  {
   "cell_type": "code",
   "execution_count": 31,
   "metadata": {},
   "outputs": [],
   "source": [
    "# --- 1.lOADING THE DATA ---\n",
    "#Adjust the paths to match where you've unzipped \"UCI HAR Dataset\"\n",
    "\n",
    "PATH = \"/Users/ahmed/Desktop/Artificial-Intelligence-Coursework/UCI HAR Dataset\"\n",
    "\n",
    "features_path = PATH + \"/features.txt\"\n",
    "activity_labels_path = PATH + \"/activity_labels.txt\"\n",
    "X_train_path = PATH + \"/train/X_train.txt\"\n",
    "y_train_path = PATH + \"/train/y_train.txt\"\n",
    "X_test_path = PATH + \"/test/X_test.txt\"\n",
    "y_test_path = PATH + \"/test/y_test.txt\"\n",
    "\n"
   ]
  },
  {
   "cell_type": "code",
   "execution_count": 32,
   "metadata": {},
   "outputs": [],
   "source": [
    "# Load feature names, This appends the column index to any duplicate names.\n",
    "\n",
    "features_df = pd.read_csv(features_path, sep=\"\\s+\", header=None, names=[\"idx\", \"feature\"])\n",
    "feature_names = features_df[\"feature\"].tolist()\n",
    "\n",
    "\n",
    "# his appends the column index to any duplicate names.\n",
    "features_df[\"feature\"] = features_df[\"feature\"].astype(str) + \"_\" + features_df.index.astype(str)\n",
    "feature_names = features_df[\"feature\"].tolist()\n",
    "\n",
    "\n",
    "# Load activity labels (mapping IDs 1-6 to string names)\n",
    "activity_labels_df = pd.read_csv(activity_labels_path, sep=\"\\s+\", header=None, names=[\"id\", \"activity\"])\n",
    "activity_map = dict(zip(activity_labels_df[\"id\"], activity_labels_df[\"activity\"]))"
   ]
  },
  {
   "cell_type": "code",
   "execution_count": 34,
   "metadata": {},
   "outputs": [],
   "source": [
    "#Load the training data\n",
    "X_train = pd.read_csv(X_train_path, sep=\"\\s+\", header=None, names=feature_names)\n",
    "y_train = pd.read_csv(y_train_path, sep=\"\\s+\", header=None, names=[\"activity\"])\n",
    "X_test = pd.read_csv(X_test_path, sep=\"\\s+\", header=None, names=feature_names)\n",
    "y_test = pd.read_csv(y_test_path, sep=\"\\s+\", header=None, names=[\"activity\"])"
   ]
  }
 ],
 "metadata": {
  "kernelspec": {
   "display_name": "Python 3",
   "language": "python",
   "name": "python3"
  },
  "language_info": {
   "codemirror_mode": {
    "name": "ipython",
    "version": 3
   },
   "file_extension": ".py",
   "mimetype": "text/x-python",
   "name": "python",
   "nbconvert_exporter": "python",
   "pygments_lexer": "ipython3",
   "version": "3.11.9"
  }
 },
 "nbformat": 4,
 "nbformat_minor": 2
}
